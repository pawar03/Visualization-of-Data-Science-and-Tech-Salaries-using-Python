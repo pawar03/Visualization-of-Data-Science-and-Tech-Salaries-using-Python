{
 "cells": [
  {
   "cell_type": "code",
   "execution_count": null,
   "id": "b5734d66",
   "metadata": {},
   "outputs": [],
   "source": [
    "import numpy as np \n",
    "import pandas as pd \n",
    "import matplotlib.pyplot as plt\n",
    "import seaborn as sns\n",
    "import warnings\n",
    "warnings.filterwarnings('ignore')"
   ]
  },
  {
   "cell_type": "code",
   "execution_count": null,
   "id": "2ceabcb2",
   "metadata": {},
   "outputs": [],
   "source": [
    "data = pd.read_csv('salary.csv')"
   ]
  },
  {
   "cell_type": "code",
   "execution_count": null,
   "id": "ca733a52",
   "metadata": {},
   "outputs": [],
   "source": [
    "data.head()"
   ]
  },
  {
   "cell_type": "code",
   "execution_count": null,
   "id": "bb3002f8",
   "metadata": {},
   "outputs": [],
   "source": [
    "data.tail()"
   ]
  },
  {
   "cell_type": "code",
   "execution_count": null,
   "id": "05d40d27",
   "metadata": {},
   "outputs": [],
   "source": [
    "data.shape"
   ]
  },
  {
   "cell_type": "code",
   "execution_count": null,
   "id": "4452e74c",
   "metadata": {},
   "outputs": [],
   "source": [
    "data.columns"
   ]
  },
  {
   "cell_type": "code",
   "execution_count": null,
   "id": "f1fa9c28",
   "metadata": {},
   "outputs": [],
   "source": [
    "data.duplicated().sum()"
   ]
  },
  {
   "cell_type": "code",
   "execution_count": null,
   "id": "925bd228",
   "metadata": {},
   "outputs": [],
   "source": [
    "data.isnull().sum()"
   ]
  },
  {
   "cell_type": "code",
   "execution_count": null,
   "id": "d82eb359",
   "metadata": {},
   "outputs": [],
   "source": [
    "data.info()"
   ]
  },
  {
   "cell_type": "code",
   "execution_count": null,
   "id": "0ab70df8",
   "metadata": {},
   "outputs": [],
   "source": [
    "data.describe()"
   ]
  },
  {
   "cell_type": "code",
   "execution_count": null,
   "id": "7b06590e",
   "metadata": {},
   "outputs": [],
   "source": [
    "data.nunique()"
   ]
  },
  {
   "cell_type": "code",
   "execution_count": null,
   "id": "ae08d6b8",
   "metadata": {},
   "outputs": [],
   "source": [
    "data_cat = data[['title', 'gender', 'Masters_Degree', 'Bachelors_Degree', 'Doctorate_Degree',\n",
    "                 'Highschool', 'Some_College', 'Race_Asian', 'Race_White','Race_Two_Or_More', \n",
    "                 'Race_Black', 'Race_Hispanic', 'Race', 'Education']]"
   ]
  },
  {
   "cell_type": "code",
   "execution_count": null,
   "id": "773b9647",
   "metadata": {},
   "outputs": [],
   "source": [
    "for i in data_cat.columns:\n",
    "     print(data_cat[i].unique())"
   ]
  },
  {
   "cell_type": "code",
   "execution_count": null,
   "id": "5557c45f",
   "metadata": {},
   "outputs": [],
   "source": [
    "for i in data_cat.columns:\n",
    "     print(data_cat[i].value_counts())"
   ]
  },
  {
   "cell_type": "code",
   "execution_count": null,
   "id": "76142068",
   "metadata": {},
   "outputs": [],
   "source": [
    "for i in data_cat.columns:\n",
    "    plt.figure(figsize = (15,6))\n",
    "    sns.countplot(data_cat[i], data = data_cat, palette = 'hls')\n",
    "    plt.xticks(rotation = 90)\n",
    "    plt.show()\n",
    "\n"
   ]
  },
  {
   "cell_type": "code",
   "execution_count": null,
   "id": "40d7dd8f",
   "metadata": {},
   "outputs": [],
   "source": [
    "for i in data_cat.columns:\n",
    "    plt.figure(figsize = (15,6))\n",
    "    data_cat[i].value_counts().plot(kind = 'pie', autopct = '%1.1f%%')\n",
    "    plt.xticks(rotation = 90)\n",
    "    plt.show()"
   ]
  },
  {
   "cell_type": "code",
   "execution_count": null,
   "id": "11e991bf",
   "metadata": {},
   "outputs": [],
   "source": [
    "data_salaries = data[['company', 'title', 'totalyearlycompensation','location',\n",
    "                      'yearsofexperience', 'yearsatcompany', 'gender','Race', 'Education']]"
   ]
  },
  {
   "cell_type": "code",
   "execution_count": null,
   "id": "f1fa97e5",
   "metadata": {},
   "outputs": [],
   "source": [
    "data_salaries = pd.DataFrame(data_salaries)"
   ]
  },
  {
   "cell_type": "code",
   "execution_count": null,
   "id": "72ba7e6d",
   "metadata": {},
   "outputs": [],
   "source": [
    "data_salaries.head()"
   ]
  },
  {
   "cell_type": "code",
   "execution_count": null,
   "id": "a2b1f7c7",
   "metadata": {},
   "outputs": [],
   "source": [
    "data_salaries.tail()"
   ]
  },
  {
   "cell_type": "code",
   "execution_count": null,
   "id": "ebdb0dec",
   "metadata": {},
   "outputs": [],
   "source": [
    "data_salaries['title'].value_counts()"
   ]
  },
  {
   "cell_type": "code",
   "execution_count": null,
   "id": "f88f59e9",
   "metadata": {},
   "outputs": [],
   "source": [
    "undesired_titles = ['Marketing', 'Mechanical Engineer', 'Sales', 'Recruiter', 'Human Resources']\n",
    "data_salaries_original = data_salaries.copy()\n",
    "data_salaries = data_salaries[data_salaries['title'].apply(lambda x: x not in undesired_titles)]\n",
    "data_salaries['title'].value_counts()"
   ]
  },
  {
   "cell_type": "code",
   "execution_count": null,
   "id": "c6fdac3d",
   "metadata": {},
   "outputs": [],
   "source": [
    "data_salaries.shape"
   ]
  },
  {
   "cell_type": "code",
   "execution_count": null,
   "id": "757b48ee",
   "metadata": {},
   "outputs": [],
   "source": [
    "data_salaries.info()"
   ]
  },
  {
   "cell_type": "code",
   "execution_count": null,
   "id": "b4a6da7e",
   "metadata": {},
   "outputs": [],
   "source": [
    "data_salaries.isnull().sum()"
   ]
  },
  {
   "cell_type": "code",
   "execution_count": null,
   "id": "93add9a5",
   "metadata": {},
   "outputs": [],
   "source": [
    "null_data = pd.DataFrame(data_salaries.isnull().sum(), columns = ['Count of Nulls'])\n",
    "null_data.index.name = 'Column Name'\n",
    "null_data[null_data ['Count of Nulls'] > 0].sort_values('Count of Nulls', ascending=False)"
   ]
  },
  {
   "cell_type": "code",
   "execution_count": null,
   "id": "c4853b34",
   "metadata": {},
   "outputs": [],
   "source": [
    "data_salaries.fillna({'company':'NA', 'gender':'NA','Race': 'NA', 'Education': 'NA'}, inplace = True)"
   ]
  },
  {
   "cell_type": "code",
   "execution_count": null,
   "id": "aba6e4e7",
   "metadata": {},
   "outputs": [],
   "source": [
    "data_salaries.isnull().sum()"
   ]
  },
  {
   "cell_type": "code",
   "execution_count": null,
   "id": "7e5410a3",
   "metadata": {},
   "outputs": [],
   "source": [
    "job_titles = data_salaries[['company','title', 'totalyearlycompensation']].groupby(['title'])\\\n",
    "                                                                          .mean()\\\n",
    "                                                                          .round(2)\\\n",
    "                                                                          .sort_values('totalyearlycompensation',ascending = False)\n",
    "plt.figure(figsize = (15,6))\n",
    "plt.style.use('fivethirtyeight')\n",
    "job_titles.plot.bar()\n",
    "plt.title('Highest Average Annual Compensation by Job Title', size=17)\n",
    "plt.xlabel('Average Annual Compensation ($)', size = 15)\n",
    "plt.ylabel('Job Title', size = 15)\n",
    "plt.show()"
   ]
  },
  {
   "cell_type": "code",
   "execution_count": null,
   "id": "f90e6f87",
   "metadata": {},
   "outputs": [],
   "source": [
    "top_jobs = data_salaries['title'].value_counts()\n",
    "plt.figure(figsize = (15,6))\n",
    "plt.style.use('fivethirtyeight')\n",
    "top_jobs.plot.bar()\n",
    "plt.title(\"Number of Workers in Each Job Title\", size=17)\n",
    "plt.xlabel('Number of Workers', size = 15)\n",
    "plt.ylabel('Job Title', size = 15)\n",
    "plt.show();"
   ]
  },
  {
   "cell_type": "code",
   "execution_count": null,
   "id": "3047d0f3",
   "metadata": {},
   "outputs": [],
   "source": [
    "plt.figure(figsize = (15,6))\n",
    "plt.style.use('fivethirtyeight')\n",
    "companies_with_most_tech_workers = data_salaries['company'].value_counts()[:10].plot.bar();\n",
    "plt.title('Top 10 companies with the highest number of tech workers', size=17)\n",
    "plt.xlabel('Number of Workers', size = 15)\n",
    "plt.ylabel('Company', size = 15)\n",
    "plt.show();"
   ]
  },
  {
   "cell_type": "code",
   "execution_count": null,
   "id": "de029b07",
   "metadata": {},
   "outputs": [],
   "source": [
    "plt.figure(figsize = (15,6))\n",
    "plt.style.use('fivethirtyeight')\n",
    "highest_paying_companies = data_salaries[['company','title','totalyearlycompensation']].groupby(['company'])\\\n",
    "                                                                                       .max().sort_values('totalyearlycompensation',ascending = False)\\\n",
    "                                                                                       .head(20).plot.bar();\n",
    "plt.title('Top 10 Companies that paid the highest compensation', size=10)\n",
    "plt.xlabel('Compensation in Millions ($)', size = 15)\n",
    "plt.ylabel('Company', size = 15)\n",
    "plt.show();"
   ]
  },
  {
   "cell_type": "code",
   "execution_count": null,
   "id": "627c1fb3",
   "metadata": {},
   "outputs": [],
   "source": [
    "data_salaries['gender'].replace('Title: Senior Software Engineer', 'NA', inplace = True)"
   ]
  },
  {
   "cell_type": "code",
   "execution_count": null,
   "id": "a73b1d7e",
   "metadata": {},
   "outputs": [],
   "source": [
    "pay_by_gender = data_salaries[['totalyearlycompensation', 'gender']].groupby(['gender']).mean().round(2)\n",
    "plt.figure(figsize = (15,6))\n",
    "plt.style.use('fivethirtyeight')\n",
    "pay_by_gender.sort_values('totalyearlycompensation', ascending = False).head(10).plot.bar(legend = False);\n",
    "plt.title('Compensation by Gender', size=20)\n",
    "plt.xlabel('Compensation ($)', size = 15)\n",
    "plt.ylabel('Gender', size = 15)\n",
    "plt.show();"
   ]
  },
  {
   "cell_type": "code",
   "execution_count": null,
   "id": "3a66df5c",
   "metadata": {},
   "outputs": [],
   "source": [
    "male_salaries = data_salaries[data_salaries.gender == 'Male'].copy()\n",
    "top4_male_salaries = male_salaries.nlargest(4,'totalyearlycompensation')\n",
    "plt.figure(figsize = (15,6))\n",
    "plt.style.use('fivethirtyeight')\n",
    "top4_male_salaries.plot.bar(x = 'title', y = 'totalyearlycompensation', legend = False);\n",
    "plt.title('Top 4 Male Salaries', size=20)\n",
    "plt.xlabel('Compensation in Millions ($)', size = 15)\n",
    "plt.ylabel('Title', size = 15)\n",
    "plt.show();"
   ]
  },
  {
   "cell_type": "code",
   "execution_count": null,
   "id": "40ad940d",
   "metadata": {},
   "outputs": [],
   "source": [
    "female_salaries = data_salaries[data_salaries.gender == 'Female'].copy()\n",
    "top4_female_salaries = female_salaries.nlargest(4,'totalyearlycompensation')\n",
    "plt.figure(figsize = (15,6))\n",
    "plt.style.use('fivethirtyeight')\n",
    "top4_female_salaries.plot.bar(x = 'title', y = 'totalyearlycompensation', legend = False);\n",
    "plt.title('Top 4 Female Salaries', size=20)\n",
    "plt.xlabel('Compensation in Millions ($)', size = 15)\n",
    "plt.ylabel('Title', size = 15)\n",
    "plt.show();"
   ]
  },
  {
   "cell_type": "code",
   "execution_count": null,
   "id": "18141e21",
   "metadata": {},
   "outputs": [],
   "source": [
    "plt.figure(figsize = (15,6))\n",
    "plt.style.use('fivethirtyeight')\n",
    "gender_distribution = data_salaries['gender'].value_counts().plot.bar(figsize = (12,8));\n",
    "plt.title('Gender Distribution', size=20)\n",
    "plt.xlabel('Count', size = 15)\n",
    "plt.ylabel('Gender', size = 15)\n",
    "plt.show();"
   ]
  },
  {
   "cell_type": "code",
   "execution_count": null,
   "id": "183cd01a",
   "metadata": {},
   "outputs": [],
   "source": [
    "plt.figure(figsize = (15,6))\n",
    "plt.style.use('fivethirtyeight')\n",
    "pay_by_race = data_salaries[['totalyearlycompensation','Race']].groupby(['Race'])\\\n",
    "                                                               .mean()\\\n",
    "                                                               .round(2)\\\n",
    "                                                               .sort_values('totalyearlycompensation', ascending = False)\\\n",
    "                                                               .plot.bar()\n",
    "plt.title('Compensation By Race', size=20)\n",
    "plt.xlabel('Compensation ($)', size = 15)\n",
    "plt.ylabel('Race', size = 15)\n",
    "plt.show()"
   ]
  },
  {
   "cell_type": "code",
   "execution_count": null,
   "id": "9914429a",
   "metadata": {},
   "outputs": [],
   "source": [
    "plt.figure(figsize = (15,6))\n",
    "plt.style.use('fivethirtyeight')\n",
    "race_distribution = data_salaries['Race'].value_counts().plot.pie();\n",
    "plt.title('Race Distribution', size=20)\n",
    "plt.show();"
   ]
  },
  {
   "cell_type": "code",
   "execution_count": null,
   "id": "8f7c3c8c",
   "metadata": {},
   "outputs": [],
   "source": [
    "plt.figure(figsize = (15,6))\n",
    "plt.style.use('fivethirtyeight')\n",
    "pay_by_education = data_salaries[['totalyearlycompensation','Education']].groupby(['Education']).mean().round().sort_values('totalyearlycompensation', ascending = False).plot.bar()\n",
    "plt.title('Compensation By Education', size=20)\n",
    "plt.xlabel('Compensation ($)', size = 15)\n",
    "plt.ylabel('Education', size = 15)\n",
    "plt.show();"
   ]
  },
  {
   "cell_type": "code",
   "execution_count": null,
   "id": "9e544cac",
   "metadata": {},
   "outputs": [],
   "source": [
    "plt.figure(figsize = (15,6))\n",
    "plt.style.use('fivethirtyeight')\n",
    "education_distribution = data_salaries['Education'].value_counts().plot.bar()\n",
    "plt.title('Distribution of Education', size=20)\n",
    "plt.xlabel('Count', size = 15)\n",
    "plt.ylabel('Education', size = 15)\n",
    "plt.show();"
   ]
  },
  {
   "cell_type": "code",
   "execution_count": null,
   "id": "9c7363ae",
   "metadata": {},
   "outputs": [],
   "source": [
    "plt.figure(figsize = (15,6))\n",
    "plt.style.use('fivethirtyeight')\n",
    "years_of_experience = data_salaries[['title', 'totalyearlycompensation','yearsofexperience']].groupby(['yearsofexperience'])\\\n",
    "                                                                                             .mean()\\\n",
    "                                                                                             .round(2)\\\n",
    "                                                                                             .sort_values('totalyearlycompensation', ascending = False)\\\n",
    "                                                                                             .head(20).plot.bar()\n",
    "plt.title('Years of Experience VS Compensation', size=17)\n",
    "plt.xlabel('Compensation ($)', size = 15)\n",
    "plt.ylabel('Years of Experience', size = 15)\n",
    "plt.show();"
   ]
  },
  {
   "cell_type": "code",
   "execution_count": null,
   "id": "560391d7",
   "metadata": {},
   "outputs": [],
   "source": [
    "plt.figure(figsize = (15,6))\n",
    "plt.style.use('fivethirtyeight')\n",
    "location = data_salaries['location'].value_counts().iloc[:20].plot.bar()\n",
    "plt.title('Top 20 locations of tech jobs', size=17)\n",
    "plt.xlabel('Number of workers', size = 15)\n",
    "plt.ylabel('Company', size = 15)\n",
    "plt.show();"
   ]
  },
  {
   "cell_type": "code",
   "execution_count": null,
   "id": "d5efe269",
   "metadata": {},
   "outputs": [],
   "source": []
  },
  {
   "cell_type": "code",
   "execution_count": null,
   "id": "a1ba1535",
   "metadata": {},
   "outputs": [],
   "source": []
  },
  {
   "cell_type": "code",
   "execution_count": null,
   "id": "1599e05b",
   "metadata": {},
   "outputs": [],
   "source": []
  },
  {
   "cell_type": "code",
   "execution_count": null,
   "id": "f3d00ec3",
   "metadata": {},
   "outputs": [],
   "source": []
  }
 ],
 "metadata": {
  "kernelspec": {
   "display_name": "Python 3 (ipykernel)",
   "language": "python",
   "name": "python3"
  },
  "language_info": {
   "codemirror_mode": {
    "name": "ipython",
    "version": 3
   },
   "file_extension": ".py",
   "mimetype": "text/x-python",
   "name": "python",
   "nbconvert_exporter": "python",
   "pygments_lexer": "ipython3",
   "version": "3.9.12"
  }
 },
 "nbformat": 4,
 "nbformat_minor": 5
}
